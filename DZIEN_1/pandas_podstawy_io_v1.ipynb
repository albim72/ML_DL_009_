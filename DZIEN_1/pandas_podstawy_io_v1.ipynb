{
 "cells":[
  {
   "cell_type":"code",
   "source":[
    "import pandas as pd\n",
    "import numpy as np"
   ],
   "execution_count":1,
   "outputs":[],
   "metadata":{
    "datalore":{
     "node_id":"5TF7aGPhJ5qLDl4FrP6D3t",
     "type":"CODE",
     "hide_input_from_viewers":true,
     "hide_output_from_viewers":true
    }
   }
  },
  {
   "cell_type":"code",
   "source":[
    "#serie\n",
    "dataseries = pd.Series([10,11,10,78,93,56,22,57],name='wartosc M',index=['a','b','c','d','e','g','x','y'])\n",
    "dataseries"
   ],
   "execution_count":2,
   "outputs":[
    {
     "data":{
      "text\/html":[
       "<pre>a    10\n",
       "b    11\n",
       "c    10\n",
       "d    78\n",
       "e    93\n",
       "g    56\n",
       "x    22\n",
       "y    57\n",
       "Name: wartosc M, dtype: int64<\/pre>"
      ]
     },
     "metadata":{},
     "output_type":"display_data"
    }
   ],
   "metadata":{
    "datalore":{
     "node_id":"0IO7FTLUQGpqIcfV9prf7j",
     "type":"CODE",
     "hide_input_from_viewers":true,
     "hide_output_from_viewers":true
    }
   }
  },
  {
   "cell_type":"code",
   "source":[
    "data_dict = {\n",
    "    'imię':['Jan','Arleta','Marian','Ludwik','Maria'],\n",
    "    'wiek':[34,26,44,56,30],\n",
    "    'miasto':['Kraków','Toruń','Gdańsk','Lublin','Kraków']\n",
    "}"
   ],
   "execution_count":3,
   "outputs":[],
   "metadata":{
    "datalore":{
     "node_id":"8P62G3F3ZbsQgv7N1Zitvk",
     "type":"CODE",
     "hide_input_from_viewers":true,
     "hide_output_from_viewers":true
    }
   }
  },
  {
   "cell_type":"code",
   "source":[
    "dataframe = pd.DataFrame(data_dict,index=['A','B','C','D','E'])\n",
    "dataframe.T"
   ],
   "execution_count":5,
   "outputs":[
    {
     "data":{
      "text\/html":[
       "<div>\n",
       "<style scoped>\n",
       "    .dataframe tbody tr th:only-of-type {\n",
       "        vertical-align: middle;\n",
       "    }\n",
       "\n",
       "    .dataframe tbody tr th {\n",
       "        vertical-align: top;\n",
       "    }\n",
       "\n",
       "    .dataframe thead th {\n",
       "        text-align: right;\n",
       "    }\n",
       "<\/style>\n",
       "<table border=\"1\" class=\"dataframe\">\n",
       "  <thead>\n",
       "    <tr style=\"text-align: right;\">\n",
       "      <th><\/th>\n",
       "      <th>A<\/th>\n",
       "      <th>B<\/th>\n",
       "      <th>C<\/th>\n",
       "      <th>D<\/th>\n",
       "      <th>E<\/th>\n",
       "    <\/tr>\n",
       "  <\/thead>\n",
       "  <tbody>\n",
       "    <tr>\n",
       "      <th>imię<\/th>\n",
       "      <td>Jan<\/td>\n",
       "      <td>Arleta<\/td>\n",
       "      <td>Marian<\/td>\n",
       "      <td>Ludwik<\/td>\n",
       "      <td>Maria<\/td>\n",
       "    <\/tr>\n",
       "    <tr>\n",
       "      <th>wiek<\/th>\n",
       "      <td>34<\/td>\n",
       "      <td>26<\/td>\n",
       "      <td>44<\/td>\n",
       "      <td>56<\/td>\n",
       "      <td>30<\/td>\n",
       "    <\/tr>\n",
       "    <tr>\n",
       "      <th>miasto<\/th>\n",
       "      <td>Kraków<\/td>\n",
       "      <td>Toruń<\/td>\n",
       "      <td>Gdańsk<\/td>\n",
       "      <td>Lublin<\/td>\n",
       "      <td>Kraków<\/td>\n",
       "    <\/tr>\n",
       "  <\/tbody>\n",
       "<\/table>\n",
       "<\/div>"
      ]
     },
     "metadata":{},
     "output_type":"display_data"
    }
   ],
   "metadata":{
    "datalore":{
     "node_id":"HUBEyjzrIHs3pGWqlGQock",
     "type":"CODE",
     "hide_input_from_viewers":true,
     "hide_output_from_viewers":true
    }
   }
  },
  {
   "cell_type":"code",
   "source":[
    "wr = np.arange(1,17,3)\n",
    "wr"
   ],
   "execution_count":7,
   "outputs":[
    {
     "data":{
      "text\/html":[
       "<pre>array([ 1,  4,  7, 10, 13, 16])<\/pre>"
      ]
     },
     "metadata":{},
     "output_type":"display_data"
    }
   ],
   "metadata":{
    "datalore":{
     "node_id":"6xatbiIBzapeBDQTrnfOtl",
     "type":"CODE",
     "hide_input_from_viewers":true,
     "hide_output_from_viewers":true
    }
   }
  }
 ],
 "metadata":{
  "kernelspec":{
   "display_name":"Python",
   "language":"python",
   "name":"python"
  },
  "datalore":{
   "computation_mode":"JUPYTER",
   "package_manager":"pip",
   "base_environment":"default_3_11",
   "packages":[],
   "report_row_ids":[],
   "report_tabs":[],
   "version":4
  }
 },
 "nbformat":4,
 "nbformat_minor":4
}