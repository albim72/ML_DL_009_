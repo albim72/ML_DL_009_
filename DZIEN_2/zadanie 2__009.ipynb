{
 "cells":[
  {
   "cell_type":"markdown",
   "source":[
    "#!\/usr\/bin\/env python3\n",
    "# *- coding: utf-8 -*\n",
    "\"\"\"\n",
    "Szkoleniowe Zadanie: Klasyfikacja Iris (Random Forest)\n",
    "\n",
    "Realizuje kroki:\n",
    "1) wczytanie danych  2) podział train\/test  3) trening RF\n",
    "4) predykcja         5) ocena (accuracy, raport, macierz)\n",
    "6) wizualizacja (opcjonalnie: macierz + ważności)\n",
    "7) zapis wyników do plików\n",
    "\n",
    "Wymagane: pandas, numpy, scikit-learn, matplotlib, seaborn\n",
    "Instalacja (opcjonalnie):\n",
    "    pip install -U pandas numpy scikit-learn matplotlib seaborn\n",
    "\"\"\""
   ],
   "attachments":{},
   "metadata":{
    "datalore":{
     "node_id":"69iNrAr16cN8J6D5x1xuQ0",
     "type":"MD",
     "hide_input_from_viewers":true,
     "hide_output_from_viewers":true
    }
   }
  },
  {
   "cell_type":"code",
   "source":[
    "from __future__ import annotations\n",
    "import os\n",
    "import json\n",
    "import numpy as np\n",
    "import pandas as pd\n",
    "import matplotlib.pyplot as plt\n",
    "import seaborn as sns\n",
    "\n",
    "from sklearn.datasets import load_iris\n",
    "from sklearn.model_selection import train_test_split\n",
    "from sklearn.ensemble import RandomForestClassifier\n",
    "from sklearn.metrics import (\n",
    "    accuracy_score,\n",
    "    classification_report,\n",
    "    confusion_matrix\n",
    ")\n",
    "\n",
    "RNG_SEED = 42"
   ],
   "execution_count":1,
   "outputs":[],
   "metadata":{
    "datalore":{
     "node_id":"DALKmbFiQcIy4mbKa38E0d",
     "type":"CODE",
     "hide_input_from_viewers":true,
     "hide_output_from_viewers":true
    }
   }
  },
  {
   "cell_type":"code",
   "source":[
    "def ensure_outdir(path: str) -> str:\n",
    "    os.makedirs(path, exist_ok=True)\n",
    "    return path"
   ],
   "execution_count":2,
   "outputs":[],
   "metadata":{
    "datalore":{
     "node_id":"MNxz8Dx5RAy89KuqVARRtj",
     "type":"CODE",
     "hide_input_from_viewers":true,
     "hide_output_from_viewers":true
    }
   }
  },
  {
   "cell_type":"code",
   "source":[
    "def load_data():\n",
    "    \"\"\"Krok 3: wczytanie zestawu danych Iris (cechy + etykiety).\"\"\"\n",
    "    iris = load_iris(as_frame=True)\n",
    "    X = iris.data                    # DataFrame z 4 cechami\n",
    "    y = iris.target                  # Series z etykietami 0\/1\/2\n",
    "    feature_names = list(X.columns)\n",
    "    target_names = list(iris.target_names)\n",
    "    return X, y, feature_names, target_names"
   ],
   "execution_count":3,
   "outputs":[],
   "metadata":{
    "datalore":{
     "node_id":"GnfcThANs2rCEwm194osL4",
     "type":"CODE",
     "hide_input_from_viewers":true,
     "hide_output_from_viewers":true
    }
   }
  },
  {
   "cell_type":"code",
   "source":[
    "def split_data(X: pd.DataFrame, y: pd.Series, test_size: float = 0.2):\n",
    "    \"\"\"Krok 4: podział na zbiory treningowy i testowy (stratyfikowany).\"\"\"\n",
    "    return train_test_split(\n",
    "        X, y,\n",
    "        test_size=test_size,\n",
    "        random_state=RNG_SEED,\n",
    "        stratify=y\n",
    "    )"
   ],
   "execution_count":4,
   "outputs":[],
   "metadata":{
    "datalore":{
     "node_id":"l6RGn0mcDoQDCQUC7tatTm",
     "type":"CODE",
     "hide_input_from_viewers":true,
     "hide_output_from_viewers":true
    }
   }
  },
  {
   "cell_type":"code",
   "source":[
    "def train_model(X_train: pd.DataFrame, y_train: pd.Series) -> RandomForestClassifier:\n",
    "    \"\"\"Krok 5: inicjalizacja i trening modelu Random Forest.\"\"\"\n",
    "    model = RandomForestClassifier(\n",
    "        n_estimators=200,\n",
    "        random_state=RNG_SEED,\n",
    "        n_jobs=-1\n",
    "    )\n",
    "    model.fit(X_train, y_train)\n",
    "    return model"
   ],
   "execution_count":5,
   "outputs":[],
   "metadata":{
    "datalore":{
     "node_id":"EFRJ3YLOLPCmbqyjP0JD5T",
     "type":"CODE",
     "hide_input_from_viewers":true,
     "hide_output_from_viewers":true
    }
   }
  },
  {
   "cell_type":"code",
   "source":[
    "def evaluate_and_save(\n",
    "    model: RandomForestClassifier,\n",
    "    X_test: pd.DataFrame,\n",
    "    y_test: pd.Series,\n",
    "    target_names: list[str],\n",
    "    outdir: str = \"outputs\"\n",
    ") -> dict:\n",
    "    \"\"\"Kroki 6–8: predykcja, ocena, wizualizacja, zapisy do plików.\"\"\"\n",
    "    ensure_outdir(outdir)\n",
    "\n",
    "    # Predykcja\n",
    "    y_pred = model.predict(X_test)\n",
    "    y_proba = (\n",
    "        model.predict_proba(X_test)\n",
    "        if hasattr(model, \"predict_proba\")\n",
    "        else None\n",
    "    )\n",
    "\n",
    "    # Metryki\n",
    "    acc = accuracy_score(y_test, y_pred)\n",
    "    clf_rep = classification_report(y_test, y_pred, target_names=target_names, digits=4)\n",
    "    cm = confusion_matrix(y_test, y_pred)\n",
    "\n",
    "    # --- Konsola ---\n",
    "    print(\"\\n=== WYNIKI ===\")\n",
    "    print(f\"Accuracy: {acc:.4f}\\n\")\n",
    "    print(\"Raport klasyfikacji:\")\n",
    "    print(clf_rep)\n",
    "    print(\"Macierz pomyłek:\")\n",
    "    print(cm)\n",
    "\n",
    "    # Zapis raportu do pliku\n",
    "    with open(os.path.join(outdir, \"classification_report.txt\"), \"w\", encoding=\"utf-8\") as f:\n",
    "        f.write(f\"Accuracy: {acc:.6f}\\n\\n\")\n",
    "        f.write(clf_rep)\n",
    "\n",
    "    # Wykres: macierz pomyłek\n",
    "    plt.figure(figsize=(5, 4))\n",
    "    sns.heatmap(cm, annot=True, fmt=\"d\",\n",
    "                xticklabels=target_names, yticklabels=target_names)\n",
    "    plt.xlabel(\"Predykcja\")\n",
    "    plt.ylabel(\"Rzeczywista\")\n",
    "    plt.title(\"Macierz pomyłek – Random Forest (Iris)\")\n",
    "    plt.tight_layout()\n",
    "    cm_path = os.path.join(outdir, \"confusion_matrix.png\")\n",
    "    plt.savefig(cm_path, dpi=200)\n",
    "    plt.close()\n",
    "\n",
    "    # Wykres: ważności cech\n",
    "    importances = pd.Series(model.feature_importances_, index=X_test.columns).sort_values(ascending=False)\n",
    "    plt.figure(figsize=(6, 4))\n",
    "    sns.barplot(x=importances.values, y=importances.index)\n",
    "    plt.xlabel(\"Ważność (feature importance)\")\n",
    "    plt.ylabel(\"Cecha\")\n",
    "    plt.title(\"Ważność cech – Random Forest (Iris)\")\n",
    "    plt.tight_layout()\n",
    "    fi_path = os.path.join(outdir, \"feature_importances.png\")\n",
    "    plt.savefig(fi_path, dpi=200)\n",
    "    plt.close()\n",
    "\n",
    "    # Zapis predykcji do CSV (z cechami)\n",
    "    pred_df = X_test.reset_index(drop=True).copy()\n",
    "    pred_df[\"y_true\"] = pd.Categorical.from_codes(y_test.values, categories=target_names)\n",
    "    pred_df[\"y_pred\"] = pd.Categorical.from_codes(y_pred, categories=target_names)\n",
    "    if y_proba is not None:\n",
    "        proba_df = pd.DataFrame(y_proba, columns=[f\"proba_{n}\" for n in target_names])\n",
    "        pred_df = pd.concat([pred_df, proba_df], axis=1)\n",
    "\n",
    "    csv_path = os.path.join(outdir, \"iris_predictions.csv\")\n",
    "    pred_df.to_csv(csv_path, index=False, encoding=\"utf-8\")\n",
    "\n",
    "    # Dodatkowo zapis metadanych do JSON\n",
    "    meta = {\n",
    "        \"accuracy\": float(acc),\n",
    "        \"target_names\": target_names,\n",
    "        \"n_test_samples\": int(len(y_test)),\n",
    "        \"outputs\": {\n",
    "            \"classification_report_txt\": \"classification_report.txt\",\n",
    "            \"confusion_matrix_png\": \"confusion_matrix.png\",\n",
    "            \"feature_importances_png\": \"feature_importances.png\",\n",
    "            \"predictions_csv\": \"iris_predictions.csv\"\n",
    "        }\n",
    "    }\n",
    "    with open(os.path.join(outdir, \"run_metadata.json\"), \"w\", encoding=\"utf-8\") as f:\n",
    "        json.dump(meta, f, ensure_ascii=False, indent=2)\n",
    "\n",
    "    return {\"accuracy\": acc, \"cm_path\": cm_path, \"fi_path\": fi_path, \"csv_path\": csv_path}\n"
   ],
   "execution_count":6,
   "outputs":[],
   "metadata":{
    "datalore":{
     "node_id":"rtmrKLBdoa07VabTMp96Qo",
     "type":"CODE",
     "hide_input_from_viewers":true,
     "hide_output_from_viewers":true
    }
   }
  },
  {
   "cell_type":"code",
   "source":[
    "def main():\n",
    "    print(\"Krok 1–3: wczytywanie danych Iris…\")\n",
    "    X, y, feature_names, target_names = load_data()\n",
    "    print(f\"Cechy: {feature_names}\")\n",
    "    print(f\"Etykiety: {target_names}\")\n",
    "    print(f\"Kształt X: {X.shape}, y: {y.shape}\")\n",
    "\n",
    "    print(\"\\nKrok 4: podział train\/test (80\/20, stratified)…\")\n",
    "    X_train, X_test, y_train, y_test = split_data(X, y, test_size=0.2)\n",
    "    print(f\"Train: {X_train.shape}, Test: {X_test.shape}\")\n",
    "\n",
    "    print(\"\\nKrok 5: trening modelu Random Forest…\")\n",
    "    model = train_model(X_train, y_train)\n",
    "\n",
    "    print(\"\\nKroki 6–8: predykcja, ocena, wizualizacja, zapisy…\")\n",
    "    results = evaluate_and_save(model, X_test, y_test, target_names, outdir=\"outputs\")\n",
    "\n",
    "    print(\"\\nZrobione.\")\n",
    "    print(f\"Accuracy: {results['accuracy']:.4f}\")\n",
    "    print(\"Pliki w katalogu .\/outputs:\")\n",
    "    print(\" - classification_report.txt\")\n",
    "    print(\" - confusion_matrix.png\")\n",
    "    print(\" - feature_importances.png\")\n",
    "    print(\" - iris_predictions.csv\")\n",
    "    print(\" - run_metadata.json\")\n"
   ],
   "execution_count":7,
   "outputs":[],
   "metadata":{
    "datalore":{
     "node_id":"UCsE3i2oKy3EWB9gjKNIkK",
     "type":"CODE",
     "hide_input_from_viewers":true,
     "hide_output_from_viewers":true
    }
   }
  },
  {
   "cell_type":"code",
   "source":[
    "if __name__ == \"__main__\":\n",
    "    main()"
   ],
   "execution_count":8,
   "outputs":[
    {
     "name":"stdout",
     "text":[
      "Krok 1–3: wczytywanie danych Iris…\n",
      "Cechy: ['sepal length (cm)', 'sepal width (cm)', 'petal length (cm)', 'petal width (cm)']\n",
      "Etykiety: ['setosa', 'versicolor', 'virginica']\n",
      "Kształt X: (150, 4), y: (150,)\n",
      "\n",
      "Krok 4: podział train\/test (80\/20, stratified)…\n",
      "Train: (120, 4), Test: (30, 4)\n",
      "\n",
      "Krok 5: trening modelu Random Forest…\n",
      "\n",
      "Kroki 6–8: predykcja, ocena, wizualizacja, zapisy…\n",
      "\n",
      "=== WYNIKI ===\n",
      "Accuracy: 0.9000\n",
      "\n",
      "Raport klasyfikacji:\n",
      "              precision    recall  f1-score   support\n",
      "\n",
      "      setosa     1.0000    1.0000    1.0000        10\n",
      "  versicolor     0.8182    0.9000    0.8571        10\n",
      "   virginica     0.8889    0.8000    0.8421        10\n",
      "\n",
      "    accuracy                         0.9000        30\n",
      "   macro avg     0.9024    0.9000    0.8997        30\n",
      "weighted avg     0.9024    0.9000    0.8997        30\n",
      "\n",
      "Macierz pomyłek:\n",
      "[[10  0  0]\n",
      " [ 0  9  1]\n",
      " [ 0  2  8]]\n",
      "\n",
      "Zrobione.\n",
      "Accuracy: 0.9000\n",
      "Pliki w katalogu .\/outputs:\n",
      " - classification_report.txt\n",
      " - confusion_matrix.png\n",
      " - feature_importances.png\n",
      " - iris_predictions.csv\n",
      " - run_metadata.json\n"
     ],
     "output_type":"stream"
    }
   ],
   "metadata":{
    "datalore":{
     "node_id":"4ZX4nKxLUlI94WqBcqb1KV",
     "type":"CODE",
     "hide_input_from_viewers":true,
     "hide_output_from_viewers":true
    }
   }
  }
 ],
 "metadata":{
  "kernelspec":{
   "display_name":"Python",
   "language":"python",
   "name":"python"
  },
  "datalore":{
   "computation_mode":"JUPYTER",
   "package_manager":"pip",
   "base_environment":"default_3_11",
   "packages":[],
   "report_row_ids":[],
   "report_tabs":[],
   "version":4
  }
 },
 "nbformat":4,
 "nbformat_minor":4
}