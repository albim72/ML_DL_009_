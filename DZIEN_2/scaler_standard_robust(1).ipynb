{
 "cells":[
  {
   "cell_type":"code",
   "source":[
    "import numpy as np\n",
    "from sklearn.preprocessing import RobustScaler, StandardScaler"
   ],
   "execution_count":1,
   "outputs":[],
   "metadata":{
    "datalore":{
     "node_id":"wlvu56eJQ9WCqgnWZDV1Dw",
     "type":"CODE",
     "hide_input_from_viewers":true,
     "hide_output_from_viewers":true
    }
   }
  },
  {
   "cell_type":"code",
   "source":[
    "#przzygotowanie danych\n",
    "X = np.array([\n",
    "    [1.0,200.0],\n",
    "    [2.0,300.0],\n",
    "    [3.0,400.0],\n",
    "    [4.0,500.0],\n",
    "    [5.0,600.0],\n",
    "    [1.5,1200.0],\n",
    "    [45.0,2300.0]\n",
    "])"
   ],
   "execution_count":16,
   "outputs":[],
   "metadata":{
    "datalore":{
     "node_id":"HbOZvTmXVp8mM6jFgZm241",
     "type":"CODE",
     "hide_input_from_viewers":true,
     "hide_output_from_viewers":true
    }
   }
  },
  {
   "cell_type":"code",
   "source":[
    "scaler = StandardScaler()"
   ],
   "execution_count":17,
   "outputs":[],
   "metadata":{
    "datalore":{
     "node_id":"Rsm7XiKLGcyeBGdQwbYbne",
     "type":"CODE",
     "hide_input_from_viewers":true,
     "hide_output_from_viewers":true
    }
   }
  },
  {
   "cell_type":"code",
   "source":[
    "x_scaled = scaler.fit_transform(X)"
   ],
   "execution_count":18,
   "outputs":[],
   "metadata":{
    "datalore":{
     "node_id":"O1XH7PpU6m6UkOmTGE2WZT",
     "type":"CODE",
     "hide_input_from_viewers":true,
     "hide_output_from_viewers":true
    }
   }
  },
  {
   "cell_type":"code",
   "source":[
    "print(f\"orygnialne dane:\\n{X}\")"
   ],
   "execution_count":19,
   "outputs":[
    {
     "name":"stdout",
     "text":[
      "orygnialne dane:\n",
      "[[1.0e+00 2.0e+02]\n",
      " [2.0e+00 3.0e+02]\n",
      " [3.0e+00 4.0e+02]\n",
      " [4.0e+00 5.0e+02]\n",
      " [5.0e+00 6.0e+02]\n",
      " [1.5e+00 1.2e+03]\n",
      " [4.5e+01 2.3e+03]]\n"
     ],
     "output_type":"stream"
    }
   ],
   "metadata":{
    "datalore":{
     "node_id":"CK9TxNJpOoJTG64fHdl8Jr",
     "type":"CODE",
     "hide_input_from_viewers":true,
     "hide_output_from_viewers":true
    }
   }
  },
  {
   "cell_type":"code",
   "source":[
    "print(f\"znormalizowane dane:\\n{x_scaled}\")"
   ],
   "execution_count":20,
   "outputs":[
    {
     "name":"stdout",
     "text":[
      "znormalizowane dane:\n",
      "[[-0.52458438 -0.85195093]\n",
      " [-0.45720657 -0.70649589]\n",
      " [-0.38982876 -0.56104085]\n",
      " [-0.32245095 -0.41558582]\n",
      " [-0.25507314 -0.27013078]\n",
      " [-0.49089547  0.60259944]\n",
      " [ 2.44003927  2.20260483]]\n"
     ],
     "output_type":"stream"
    }
   ],
   "metadata":{
    "datalore":{
     "node_id":"0PN7VDrTuolcJkJQhRNUeC",
     "type":"CODE",
     "hide_input_from_viewers":true,
     "hide_output_from_viewers":true
    }
   }
  },
  {
   "cell_type":"code",
   "source":[
    "rscaler = RobustScaler()"
   ],
   "execution_count":7,
   "outputs":[],
   "metadata":{
    "datalore":{
     "node_id":"ZoSlCS8ndsi8oho2zBDzB0",
     "type":"CODE",
     "hide_input_from_viewers":true,
     "hide_output_from_viewers":true
    }
   }
  },
  {
   "cell_type":"code",
   "source":[
    "Xr = np.array([\n",
    "    [1.e+00,2.e+02],\n",
    "    [2.e+00,3.e+02],\n",
    "    [3.e+00,4.e+02],\n",
    "    [4.e+00,5.e+02],\n",
    "    [5.e+00,6.e+02],\n",
    "    [1.e+02,1.e+04],\n",
    "    [2.4e+03,1.2e+04],\n",
    "    [2.8e+05,2.2e+00]\n",
    "])"
   ],
   "execution_count":12,
   "outputs":[],
   "metadata":{
    "datalore":{
     "node_id":"tdC3VKTdXdondFwhyVhFm8",
     "type":"CODE",
     "hide_input_from_viewers":true,
     "hide_output_from_viewers":true
    }
   }
  },
  {
   "cell_type":"code",
   "source":[
    "xr_scaled = rscaler.fit_transform(Xr)"
   ],
   "execution_count":13,
   "outputs":[],
   "metadata":{
    "datalore":{
     "node_id":"bGxjrYPcjsTY2E7N5MiRIK",
     "type":"CODE",
     "hide_input_from_viewers":true,
     "hide_output_from_viewers":true
    }
   }
  },
  {
   "cell_type":"code",
   "source":[
    "print(f\"orygnialne dane:\\n{Xr}\")"
   ],
   "execution_count":14,
   "outputs":[
    {
     "name":"stdout",
     "text":[
      "orygnialne dane:\n",
      "[[1.0e+00 2.0e+02]\n",
      " [2.0e+00 3.0e+02]\n",
      " [3.0e+00 4.0e+02]\n",
      " [4.0e+00 5.0e+02]\n",
      " [5.0e+00 6.0e+02]\n",
      " [1.0e+02 1.0e+04]\n",
      " [2.4e+03 1.2e+04]\n",
      " [2.8e+05 2.2e+00]]\n"
     ],
     "output_type":"stream"
    }
   ],
   "metadata":{
    "datalore":{
     "node_id":"08T9267YLdomuwamfEhM3z",
     "type":"CODE",
     "hide_input_from_viewers":true,
     "hide_output_from_viewers":true
    }
   }
  },
  {
   "cell_type":"code",
   "source":[
    "print(f\"znormalizowane dane:\\n{xr_scaled}\")"
   ],
   "execution_count":15,
   "outputs":[
    {
     "name":"stdout",
     "text":[
      "znormalizowane dane:\n",
      "[[-5.20639643e-03 -9.34579439e-02]\n",
      " [-3.71885459e-03 -5.60747664e-02]\n",
      " [-2.23131276e-03 -1.86915888e-02]\n",
      " [-7.43770919e-04  1.86915888e-02]\n",
      " [ 7.43770919e-04  5.60747664e-02]\n",
      " [ 1.42060245e-01  3.57009346e+00]\n",
      " [ 3.56340647e+00  4.31775701e+00]\n",
      " [ 4.16505020e+02 -1.67401869e-01]]\n"
     ],
     "output_type":"stream"
    }
   ],
   "metadata":{
    "datalore":{
     "node_id":"hZiJtgIiB5DiPqfDZHUDA4",
     "type":"CODE",
     "hide_input_from_viewers":true,
     "hide_output_from_viewers":true
    }
   }
  },
  {
   "cell_type":"code",
   "source":[
    "scaler.inverse_transform(x_scaled)"
   ],
   "execution_count":21,
   "outputs":[
    {
     "data":{
      "text\/html":[
       "<pre>array([[1.0e+00, 2.0e+02],\n",
       "       [2.0e+00, 3.0e+02],\n",
       "       [3.0e+00, 4.0e+02],\n",
       "       [4.0e+00, 5.0e+02],\n",
       "       [5.0e+00, 6.0e+02],\n",
       "       [1.5e+00, 1.2e+03],\n",
       "       [4.5e+01, 2.3e+03]])<\/pre>"
      ]
     },
     "metadata":{},
     "output_type":"display_data"
    }
   ],
   "metadata":{
    "datalore":{
     "node_id":"UGvvFbg1frofU525sdLYOm",
     "type":"CODE",
     "hide_input_from_viewers":true,
     "hide_output_from_viewers":true
    }
   }
  },
  {
   "cell_type":"code",
   "source":[],
   "execution_count":null,
   "outputs":[],
   "metadata":{
    "datalore":{
     "node_id":"5yMV7XseKq7ft5ieQph2MB",
     "type":"CODE",
     "hide_input_from_viewers":true,
     "hide_output_from_viewers":true
    }
   }
  }
 ],
 "metadata":{
  "kernelspec":{
   "display_name":"Python",
   "language":"python",
   "name":"python"
  },
  "datalore":{
   "computation_mode":"JUPYTER",
   "package_manager":"pip",
   "base_environment":"default_3_11",
   "packages":[],
   "report_row_ids":[],
   "report_tabs":[],
   "version":4
  }
 },
 "nbformat":4,
 "nbformat_minor":4
}